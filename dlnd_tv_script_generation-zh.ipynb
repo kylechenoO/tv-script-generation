{
 "cells": [
  {
   "cell_type": "markdown",
   "metadata": {},
   "source": [
    "# 生成电视剧剧本\n",
    "\n",
    "在这个项目中，你将使用 RNN 创作你自己的[《辛普森一家》](https://zh.wikipedia.org/wiki/%E8%BE%9B%E6%99%AE%E6%A3%AE%E4%B8%80%E5%AE%B6)电视剧剧本。你将会用到《辛普森一家》第 27 季中部分剧本的[数据集](https://www.kaggle.com/wcukierski/the-simpsons-by-the-data)。你创建的神经网络将为一个在 [Moe 酒馆](https://simpsonswiki.com/wiki/Moe's_Tavern)中的场景生成一集新的剧本。\n",
    "## 获取数据\n",
    "我们早已为你提供了数据。你将使用原始数据集的子集，它只包括 Moe 酒馆中的场景。数据中并不包括酒馆的其他版本，比如 “Moe 的山洞”、“燃烧的 Moe 酒馆”、“Moe 叔叔的家庭大餐”等等。"
   ]
  },
  {
   "cell_type": "code",
   "execution_count": 1,
   "metadata": {},
   "outputs": [],
   "source": [
    "\"\"\"\n",
    "DON'T MODIFY ANYTHING IN THIS CELL\n",
    "\"\"\"\n",
    "import helper\n",
    "\n",
    "data_dir = './data/simpsons/moes_tavern_lines.txt'\n",
    "text = helper.load_data(data_dir)\n",
    "# Ignore notice, since we don't use it for analysing the data\n",
    "text = text[81:]"
   ]
  },
  {
   "cell_type": "markdown",
   "metadata": {},
   "source": [
    "## 探索数据\n",
    "使用 `view_sentence_range` 来查看数据的不同部分。"
   ]
  },
  {
   "cell_type": "code",
   "execution_count": 2,
   "metadata": {},
   "outputs": [
    {
     "name": "stdout",
     "output_type": "stream",
     "text": [
      "Dataset Stats\n",
      "Roughly the number of unique words: 11492\n",
      "Number of scenes: 262\n",
      "Average number of sentences in each scene: 15.248091603053435\n",
      "Number of lines: 4257\n",
      "Average number of words in each line: 11.50434578341555\n",
      "\n",
      "The sentences 0 to 10:\n",
      "Moe_Szyslak: (INTO PHONE) Moe's Tavern. Where the elite meet to drink.\n",
      "Bart_Simpson: Eh, yeah, hello, is Mike there? Last name, Rotch.\n",
      "Moe_Szyslak: (INTO PHONE) Hold on, I'll check. (TO BARFLIES) Mike Rotch. Mike Rotch. Hey, has anybody seen Mike Rotch, lately?\n",
      "Moe_Szyslak: (INTO PHONE) Listen you little puke. One of these days I'm gonna catch you, and I'm gonna carve my name on your back with an ice pick.\n",
      "Moe_Szyslak: What's the matter Homer? You're not your normal effervescent self.\n",
      "Homer_Simpson: I got my problems, Moe. Give me another one.\n",
      "Moe_Szyslak: Homer, hey, you should not drink to forget your problems.\n",
      "Barney_Gumble: Yeah, you should only drink to enhance your social skills.\n",
      "\n",
      "\n"
     ]
    }
   ],
   "source": [
    "view_sentence_range = (0, 10)\n",
    "\n",
    "\"\"\"\n",
    "DON'T MODIFY ANYTHING IN THIS CELL\n",
    "\"\"\"\n",
    "import numpy as np\n",
    "\n",
    "print('Dataset Stats')\n",
    "print('Roughly the number of unique words: {}'.format(len({word: None for word in text.split()})))\n",
    "scenes = text.split('\\n\\n')\n",
    "print('Number of scenes: {}'.format(len(scenes)))\n",
    "sentence_count_scene = [scene.count('\\n') for scene in scenes]\n",
    "print('Average number of sentences in each scene: {}'.format(np.average(sentence_count_scene)))\n",
    "\n",
    "sentences = [sentence for scene in scenes for sentence in scene.split('\\n')]\n",
    "print('Number of lines: {}'.format(len(sentences)))\n",
    "word_count_sentence = [len(sentence.split()) for sentence in sentences]\n",
    "print('Average number of words in each line: {}'.format(np.average(word_count_sentence)))\n",
    "\n",
    "print()\n",
    "print('The sentences {} to {}:'.format(*view_sentence_range))\n",
    "print('\\n'.join(text.split('\\n')[view_sentence_range[0]:view_sentence_range[1]]))"
   ]
  },
  {
   "cell_type": "markdown",
   "metadata": {},
   "source": [
    "## 实现预处理函数\n",
    "对数据集进行的第一个操作是预处理。请实现下面两个预处理函数：\n",
    "\n",
    "- 查询表\n",
    "- 标记符号的字符串\n",
    "\n",
    "### 查询表\n",
    "要创建词嵌入，你首先要将词语转换为 id。请在这个函数中创建两个字典：\n",
    "\n",
    "- 将词语转换为 id 的字典，我们称它为 `vocab_to_int`\n",
    "- 将 id 转换为词语的字典，我们称它为 `int_to_vocab`\n",
    "\n",
    "请在下面的元组中返回这些字典\n",
    " `(vocab_to_int, int_to_vocab)`"
   ]
  },
  {
   "cell_type": "code",
   "execution_count": 3,
   "metadata": {},
   "outputs": [
    {
     "name": "stdout",
     "output_type": "stream",
     "text": [
      "Tests Passed\n"
     ]
    }
   ],
   "source": [
    "import numpy as np\n",
    "import problem_unittests as tests\n",
    "\n",
    "def create_lookup_tables(text):\n",
    "    \"\"\"\n",
    "    Create lookup tables for vocabulary\n",
    "    :param text: The text of tv scripts split into words\n",
    "    :return: A tuple of dicts (vocab_to_int, int_to_vocab)\n",
    "    \"\"\"\n",
    "    # TODO: Implement Function\n",
    "    vocab_to_int = {value: key for (key, value) in enumerate(list(set(text)))}\n",
    "    int_to_vocab = {key: value for (key, value) in enumerate(list(set(text)))}\n",
    "\n",
    "    return(vocab_to_int, int_to_vocab)\n",
    "\n",
    "\n",
    "\"\"\"\n",
    "DON'T MODIFY ANYTHING IN THIS CELL THAT IS BELOW THIS LINE\n",
    "\"\"\"\n",
    "tests.test_create_lookup_tables(create_lookup_tables)"
   ]
  },
  {
   "cell_type": "markdown",
   "metadata": {},
   "source": [
    "### 标记符号的字符串\n",
    "我们会使用空格当作分隔符，来将剧本分割为词语数组。然而，句号和感叹号等符号使得神经网络难以分辨“再见”和“再见！”之间的区别。\n",
    "\n",
    "实现函数 `token_lookup` 来返回一个字典，这个字典用于将 “!” 等符号标记为 “||Exclamation_Mark||” 形式。为下列符号创建一个字典，其中符号为标志，值为标记。\n",
    "\n",
    "- period ( . )\n",
    "- comma ( , )\n",
    "- quotation mark ( \" )\n",
    "- semicolon ( ; )\n",
    "- exclamation mark ( ! )\n",
    "- question mark ( ? )\n",
    "- left parenthesis ( ( )\n",
    "- right parenthesis ( ) )\n",
    "- dash ( -- )\n",
    "- return ( \\n )\n",
    "\n",
    "这个字典将用于标记符号并在其周围添加分隔符（空格）。这能将符号视作单独词汇分割开来，并使神经网络更轻松地预测下一个词汇。请确保你并没有使用容易与词汇混淆的标记。与其使用 “dash” 这样的标记，试试使用“||dash||”。"
   ]
  },
  {
   "cell_type": "code",
   "execution_count": 4,
   "metadata": {},
   "outputs": [
    {
     "name": "stdout",
     "output_type": "stream",
     "text": [
      "Tests Passed\n"
     ]
    }
   ],
   "source": [
    "def token_lookup():\n",
    "    \"\"\"\n",
    "    Generate a dict to turn punctuation into a token.\n",
    "    :return: Tokenize dictionary where the key is the punctuation and the value is the token\n",
    "    \"\"\"\n",
    "    token_dict = {\n",
    "        '.': '||period||',\n",
    "        ',': '||comma||',\n",
    "        '\"': '||quotation_mark||',\n",
    "        ';': '||semicolon||',\n",
    "        '!': '||exclamation_mark||',\n",
    "        '?': '||question_mark||',\n",
    "        '(': '||left_parenthesis||',\n",
    "        ')': '||right_parenthesis||',\n",
    "        '--': '||dash||',\n",
    "        '\\n': '||return||'\n",
    "    }\n",
    "    return(token_dict)\n",
    "\n",
    "\"\"\"\n",
    "DON'T MODIFY ANYTHING IN THIS CELL THAT IS BELOW THIS LINE\n",
    "\"\"\"\n",
    "tests.test_tokenize(token_lookup)"
   ]
  },
  {
   "cell_type": "markdown",
   "metadata": {},
   "source": [
    "## 预处理并保存所有数据\n",
    "运行以下代码将预处理所有数据，并将它们保存至文件。"
   ]
  },
  {
   "cell_type": "code",
   "execution_count": 5,
   "metadata": {},
   "outputs": [],
   "source": [
    "\"\"\"\n",
    "DON'T MODIFY ANYTHING IN THIS CELL\n",
    "\"\"\"\n",
    "# Preprocess Training, Validation, and Testing Data\n",
    "helper.preprocess_and_save_data(data_dir, token_lookup, create_lookup_tables)"
   ]
  },
  {
   "cell_type": "markdown",
   "metadata": {},
   "source": [
    "# 检查点\n",
    "这是你遇到的第一个检点。如果你想要回到这个 notebook，或需要重新打开 notebook，你都可以从这里开始。预处理的数据都已经保存完毕。"
   ]
  },
  {
   "cell_type": "code",
   "execution_count": 6,
   "metadata": {},
   "outputs": [],
   "source": [
    "\"\"\"\n",
    "DON'T MODIFY ANYTHING IN THIS CELL\n",
    "\"\"\"\n",
    "import helper\n",
    "import numpy as np\n",
    "import problem_unittests as tests\n",
    "\n",
    "int_text, vocab_to_int, int_to_vocab, token_dict = helper.load_preprocess()"
   ]
  },
  {
   "cell_type": "markdown",
   "metadata": {},
   "source": [
    "## 创建神经网络\n",
    "你将通过实现下面的函数，来创造用于构建 RNN 的必要元素：\n",
    "\n",
    "- get_inputs\n",
    "- get_init\\_cell\n",
    "- get_embed\n",
    "- build_rnn\n",
    "- build_nn\n",
    "- get_batches\n",
    "\n",
    "### 检查 TensorFlow 版本并访问 GPU"
   ]
  },
  {
   "cell_type": "code",
   "execution_count": 7,
   "metadata": {},
   "outputs": [
    {
     "name": "stdout",
     "output_type": "stream",
     "text": [
      "TensorFlow Version: 1.8.0\n",
      "Default GPU Device: /device:GPU:0\n"
     ]
    }
   ],
   "source": [
    "\"\"\"\n",
    "DON'T MODIFY ANYTHING IN THIS CELL\n",
    "\"\"\"\n",
    "from distutils.version import LooseVersion\n",
    "import warnings\n",
    "import tensorflow as tf\n",
    "\n",
    "# Check TensorFlow Version\n",
    "assert LooseVersion(tf.__version__) >= LooseVersion('1.0'), 'Please use TensorFlow version 1.0 or newer'\n",
    "print('TensorFlow Version: {}'.format(tf.__version__))\n",
    "\n",
    "# Check for a GPU\n",
    "if not tf.test.gpu_device_name():\n",
    "    warnings.warn('No GPU found. Please use a GPU to train your neural network.')\n",
    "else:\n",
    "    print('Default GPU Device: {}'.format(tf.test.gpu_device_name()))"
   ]
  },
  {
   "cell_type": "markdown",
   "metadata": {},
   "source": [
    "### 输入\n",
    "\n",
    "实现函数 `get_inputs()` 来为神经网络创建 TF 占位符。它将创建下列占位符：\n",
    "\n",
    "- 使用 [TF 占位符](https://www.tensorflow.org/api_docs/python/tf/placeholder) `name` 参量输入 \"input\" 文本占位符。\n",
    "- Targets 占位符\n",
    "- Learning Rate 占位符\n",
    "\n",
    "返回下列元组中的占位符 `(Input, Targets, LearningRate)`"
   ]
  },
  {
   "cell_type": "code",
   "execution_count": 8,
   "metadata": {},
   "outputs": [
    {
     "name": "stdout",
     "output_type": "stream",
     "text": [
      "Tests Passed\n"
     ]
    }
   ],
   "source": [
    "def get_inputs():\n",
    "    \"\"\"\n",
    "    Create TF Placeholders for input, targets, and learning rate.\n",
    "    :return: Tuple (input, targets, learning rate)\n",
    "    \"\"\"\n",
    "    # TODO: Implement Function\n",
    "    Input = tf.placeholder(tf.int32, shape = [None, None], name = 'input')\n",
    "    Targets = tf.placeholder(tf.int32, shape = [None, None], name = 'targets')\n",
    "    LearningRate = tf.placeholder(tf.float32, shape = None, name = 'learningrate')\n",
    "\n",
    "    \n",
    "    return(Input, Targets, LearningRate)\n",
    "\n",
    "\"\"\"\n",
    "DON'T MODIFY ANYTHING IN THIS CELL THAT IS BELOW THIS LINE\n",
    "\"\"\"\n",
    "tests.test_get_inputs(get_inputs)"
   ]
  },
  {
   "cell_type": "markdown",
   "metadata": {},
   "source": [
    "### 创建 RNN Cell 并初始化\n",
    "\n",
    "在 [`MultiRNNCell`](https://www.tensorflow.org/api_docs/python/tf/contrib/rnn/MultiRNNCell) 中堆叠一个或多个 [`BasicLSTMCells`](https://www.tensorflow.org/api_docs/python/tf/contrib/rnn/BasicLSTMCell)\n",
    "\n",
    "- 使用 `rnn_size` 设定 RNN 大小。\n",
    "- 使用 MultiRNNCell 的 [`zero_state()`](https://www.tensorflow.org/api_docs/python/tf/contrib/rnn/MultiRNNCell#zero_state) 函数初始化 Cell 状态\n",
    "- 使用 [`tf.identity()`](https://www.tensorflow.org/api_docs/python/tf/identity) 为初始状态应用名称 \"initial_state\"\n",
    " \n",
    "\n",
    "返回 cell 和下列元组中的初始状态 `(Cell, InitialState)`"
   ]
  },
  {
   "cell_type": "code",
   "execution_count": 9,
   "metadata": {},
   "outputs": [
    {
     "name": "stdout",
     "output_type": "stream",
     "text": [
      "Tests Passed\n"
     ]
    }
   ],
   "source": [
    "def get_init_cell(batch_size, rnn_size):\n",
    "    \"\"\"\n",
    "    Create an RNN Cell and initialize it.\n",
    "    :param batch_size: Size of batches\n",
    "    :param rnn_size: Size of RNNs\n",
    "    :return: Tuple (cell, initialize state)\n",
    "    \"\"\"\n",
    "    # TODO: Implement Function\n",
    "    lstm = tf.contrib.rnn.BasicLSTMCell(rnn_size)\n",
    "    Cell = tf.contrib.rnn.MultiRNNCell([lstm])\n",
    "    InitialState = Cell.zero_state(batch_size, tf.float32)\n",
    "    InitialState = tf.identity(InitialState, name='initial_state')\n",
    "    \n",
    "    return(Cell, InitialState)\n",
    "\n",
    "\n",
    "\"\"\"\n",
    "DON'T MODIFY ANYTHING IN THIS CELL THAT IS BELOW THIS LINE\n",
    "\"\"\"\n",
    "tests.test_get_init_cell(get_init_cell)"
   ]
  },
  {
   "cell_type": "markdown",
   "metadata": {},
   "source": [
    "### 词嵌入\n",
    "使用 TensorFlow 将嵌入运用到 `input_data` 中。\n",
    "返回嵌入序列。"
   ]
  },
  {
   "cell_type": "code",
   "execution_count": 10,
   "metadata": {},
   "outputs": [
    {
     "name": "stdout",
     "output_type": "stream",
     "text": [
      "Tests Passed\n"
     ]
    }
   ],
   "source": [
    "def get_embed(input_data, vocab_size, embed_dim):\n",
    "    \"\"\"\n",
    "    Create embedding for <input_data>.\n",
    "    :param input_data: TF placeholder for text input.\n",
    "    :param vocab_size: Number of words in vocabulary.\n",
    "    :param embed_dim: Number of embedding dimensions\n",
    "    :return: Embedded input.\n",
    "    \"\"\"\n",
    "    # TODO: Implement Function\n",
    "    EmbeddedInput = tf.nn.embedding_lookup(tf.Variable(tf.random_uniform((vocab_size, embed_dim), -1, 1)),\n",
    "                                            input_data)\n",
    "    \n",
    "    return(EmbeddedInput)\n",
    "\n",
    "\n",
    "\"\"\"\n",
    "DON'T MODIFY ANYTHING IN THIS CELL THAT IS BELOW THIS LINE\n",
    "\"\"\"\n",
    "tests.test_get_embed(get_embed)"
   ]
  },
  {
   "cell_type": "markdown",
   "metadata": {},
   "source": [
    "### 创建 RNN\n",
    "你已经在 `get_init_cell()` 函数中创建了 RNN Cell。是时候使用这个 Cell 来创建 RNN了。\n",
    "\n",
    "- 使用 [`tf.nn.dynamic_rnn()`](https://www.tensorflow.org/api_docs/python/tf/nn/dynamic_rnn) 创建 RNN\n",
    "- 使用 [`tf.identity()`](https://www.tensorflow.org/api_docs/python/tf/identity) 将名称 \"final_state\" 应用到最终状态中\n",
    "\n",
    "\n",
    "返回下列元组中的输出和最终状态`(Outputs, FinalState)`"
   ]
  },
  {
   "cell_type": "code",
   "execution_count": 11,
   "metadata": {},
   "outputs": [
    {
     "name": "stdout",
     "output_type": "stream",
     "text": [
      "Tests Passed\n"
     ]
    }
   ],
   "source": [
    "def build_rnn(cell, inputs):\n",
    "    \"\"\"\n",
    "    Create a RNN using a RNN Cell\n",
    "    :param cell: RNN Cell\n",
    "    :param inputs: Input text data\n",
    "    :return: Tuple (Outputs, Final State)\n",
    "    \"\"\"\n",
    "    # TODO: Implement Function\n",
    "    Outputs, FinalState = tf.nn.dynamic_rnn(cell, inputs, dtype = tf.float32)\n",
    "    FinalState = tf.identity(FinalState, name = 'final_state')\n",
    "    \n",
    "    return(Outputs, FinalState)\n",
    "\n",
    "\n",
    "\"\"\"\n",
    "DON'T MODIFY ANYTHING IN THIS CELL THAT IS BELOW THIS LINE\n",
    "\"\"\"\n",
    "tests.test_build_rnn(build_rnn)"
   ]
  },
  {
   "cell_type": "markdown",
   "metadata": {},
   "source": [
    "### 构建神经网络\n",
    "应用你在上面实现的函数，来：\n",
    "\n",
    "- 使用你的 `get_embed(input_data, vocab_size, embed_dim)` 函数将嵌入应用到 `input_data` 中\n",
    "- 使用 `cell` 和你的 `build_rnn(cell, inputs)` 函数来创建 RNN\n",
    "- 应用一个完全联通线性激活和 `vocab_size` 的分层作为输出数量。\n",
    "\n",
    "返回下列元组中的 logit 和最终状态 `Logits, FinalState`"
   ]
  },
  {
   "cell_type": "code",
   "execution_count": 12,
   "metadata": {},
   "outputs": [
    {
     "name": "stdout",
     "output_type": "stream",
     "text": [
      "Tests Passed\n"
     ]
    }
   ],
   "source": [
    "def build_nn(cell, rnn_size, input_data, vocab_size, embed_dim):\n",
    "    \"\"\"\n",
    "    Build part of the neural network\n",
    "    :param cell: RNN cell\n",
    "    :param rnn_size: Size of rnns\n",
    "    :param input_data: Input data\n",
    "    :param vocab_size: Vocabulary size\n",
    "    :param embed_dim: Number of embedding dimensions\n",
    "    :return: Tuple (Logits, FinalState)\n",
    "    \"\"\"\n",
    "    # TODO: Implement Function\n",
    "    EmbeddedInput = get_embed(input_data, vocab_size, embed_dim)\n",
    "    Outputs, FinalState = build_rnn(cell, EmbeddedInput)\n",
    "    Logits = tf.layers.dense(Outputs, vocab_size, use_bias = True)\n",
    "    \n",
    "    return(Logits, FinalState)\n",
    "\n",
    "\n",
    "\"\"\"\n",
    "DON'T MODIFY ANYTHING IN THIS CELL THAT IS BELOW THIS LINE\n",
    "\"\"\"\n",
    "tests.test_build_nn(build_nn)"
   ]
  },
  {
   "cell_type": "markdown",
   "metadata": {},
   "source": [
    "### 批次\n",
    "\n",
    "实现 `get_batches` 来使用 `int_text` 创建输入与目标批次。这些批次应为 Numpy 数组，并具有形状 `(number of batches, 2, batch size, sequence length)`。每个批次包含两个元素：\n",
    "\n",
    "- 第一个元素为**输入**的单独批次，并具有形状 `[batch size, sequence length]`\n",
    "- 第二个元素为**目标**的单独批次，并具有形状 `[batch size, sequence length]`\n",
    "\n",
    "如果你无法在最后一个批次中填入足够数据，请放弃这个批次。\n",
    "\n",
    "例如 `get_batches([1, 2, 3, 4, 5, 6, 7, 8, 9, 10, 11, 12, 13, 14, 15], 2, 3)` 将返回下面这个 Numpy 数组："
   ]
  },
  {
   "cell_type": "markdown",
   "metadata": {},
   "source": [
    "[\n",
    "  # First Batch\n",
    "  [\n",
    "    # Batch of Input\n",
    "    [[ 1  2], [ 7  8], [13 14]]\n",
    "    # Batch of targets\n",
    "    [[ 2  3], [ 8  9], [14 15]]\n",
    "  ]\n",
    "\n",
    "  # Second Batch\n",
    "  [\n",
    "    # Batch of Input\n",
    "    [[ 3  4], [ 9 10], [15 16]]\n",
    "    # Batch of targets\n",
    "    [[ 4  5], [10 11], [16 17]]\n",
    "  ]\n",
    "\n",
    "  # Third Batch\n",
    "  [\n",
    "    # Batch of Input\n",
    "    [[ 5  6], [11 12], [17 18]]\n",
    "    # Batch of targets\n",
    "    [[ 6  7], [12 13], [18  1]]\n",
    "  ]\n",
    "]\n"
   ]
  },
  {
   "cell_type": "code",
   "execution_count": 13,
   "metadata": {},
   "outputs": [
    {
     "name": "stdout",
     "output_type": "stream",
     "text": [
      "Tests Passed\n"
     ]
    }
   ],
   "source": [
    "def get_batches(int_text, batch_size, seq_length):\n",
    "    \"\"\"\n",
    "    Return batches of input and target\n",
    "    :param int_text: Text with the words replaced by their ids\n",
    "    :param batch_size: The size of batch\n",
    "    :param seq_length: The length of sequence\n",
    "    :return: Batches as a Numpy array\n",
    "    \"\"\"\n",
    "    # TODO: Implement Function\n",
    "    count = len(int_text) // (batch_size * seq_length)\n",
    "    input_data = np.array(int_text[:count * (batch_size * seq_length)]).reshape(-1,\n",
    "                                                                                seq_length)\n",
    "    output_data = np.roll(np.array(int_text[:count * (batch_size * seq_length)]),\n",
    "                          -1).reshape(-1, seq_length)\n",
    "    result = np.zeros(shape = (count, 2, batch_size, seq_length))\n",
    "    for i in range(input_data.shape[0]):\n",
    "        j = i // count\n",
    "        k = i % count\n",
    "        result[k, 0, j, :] = input_data[i, :]\n",
    "        result[k, 1, j, :] = output_data[i, :]\n",
    "        \n",
    "    return(result)\n",
    "\n",
    "\"\"\"\n",
    "DON'T MODIFY ANYTHING IN THIS CELL THAT IS BELOW THIS LINE\n",
    "\"\"\"\n",
    "tests.test_get_batches(get_batches)"
   ]
  },
  {
   "cell_type": "markdown",
   "metadata": {},
   "source": [
    "## 神经网络训练\n",
    "### 超参数\n",
    "调整下列参数:\n",
    "\n",
    "- 将 `num_epochs` 设置为训练次数。\n",
    "- 将 `batch_size` 设置为程序组大小。\n",
    "- 将 `rnn_size` 设置为 RNN 大小。\n",
    "- 将 `embed_dim` 设置为嵌入大小。\n",
    "- 将 `seq_length` 设置为序列长度。\n",
    "- 将 `learning_rate` 设置为学习率。\n",
    "- 将 `show_every_n_batches` 设置为神经网络应输出的程序组数量。"
   ]
  },
  {
   "cell_type": "code",
   "execution_count": 14,
   "metadata": {},
   "outputs": [],
   "source": [
    "# Number of Epochs\n",
    "num_epochs = 100\n",
    "# Batch Size\n",
    "batch_size = 128\n",
    "# RNN Size\n",
    "rnn_size = 1024\n",
    "# Embedding Dimension Size\n",
    "embed_dim = 512\n",
    "# Sequence Length\n",
    "seq_length = 24\n",
    "# Learning Rate\n",
    "learning_rate = 0.01\n",
    "# Show stats for every n number of batches\n",
    "show_every_n_batches = 10\n",
    "\n",
    "\"\"\"\n",
    "DON'T MODIFY ANYTHING IN THIS CELL THAT IS BELOW THIS LINE\n",
    "\"\"\"\n",
    "save_dir = './save'"
   ]
  },
  {
   "cell_type": "markdown",
   "metadata": {},
   "source": [
    "### 创建图表\n",
    "使用你实现的神经网络创建图表。"
   ]
  },
  {
   "cell_type": "code",
   "execution_count": 15,
   "metadata": {},
   "outputs": [],
   "source": [
    "\"\"\"\n",
    "DON'T MODIFY ANYTHING IN THIS CELL\n",
    "\"\"\"\n",
    "from tensorflow.contrib import seq2seq\n",
    "\n",
    "train_graph = tf.Graph()\n",
    "with train_graph.as_default():\n",
    "    vocab_size = len(int_to_vocab)\n",
    "    input_text, targets, lr = get_inputs()\n",
    "    input_data_shape = tf.shape(input_text)\n",
    "    cell, initial_state = get_init_cell(input_data_shape[0], rnn_size)\n",
    "    logits, final_state = build_nn(cell, rnn_size, input_text, vocab_size, embed_dim)\n",
    "\n",
    "    # Probabilities for generating words\n",
    "    probs = tf.nn.softmax(logits, name='probs')\n",
    "\n",
    "    # Loss function\n",
    "    cost = seq2seq.sequence_loss(\n",
    "        logits,\n",
    "        targets,\n",
    "        tf.ones([input_data_shape[0], input_data_shape[1]]))\n",
    "\n",
    "    # Optimizer\n",
    "    optimizer = tf.train.AdamOptimizer(lr)\n",
    "\n",
    "    # Gradient Clipping\n",
    "    gradients = optimizer.compute_gradients(cost)\n",
    "    capped_gradients = [(tf.clip_by_value(grad, -1., 1.), var) for grad, var in gradients if grad is not None]\n",
    "    train_op = optimizer.apply_gradients(capped_gradients)"
   ]
  },
  {
   "cell_type": "markdown",
   "metadata": {},
   "source": [
    "## 训练\n",
    "在预处理数据中训练神经网络。如果你遇到困难，请查看这个[表格](https://discussions.udacity.com/)，看看是否有人遇到了和你一样的问题。"
   ]
  },
  {
   "cell_type": "code",
   "execution_count": 16,
   "metadata": {},
   "outputs": [
    {
     "name": "stdout",
     "output_type": "stream",
     "text": [
      "Epoch   0 Batch    0/22   train_loss = 8.817\n",
      "Epoch   0 Batch   10/22   train_loss = 7.527\n",
      "Epoch   0 Batch   20/22   train_loss = 6.396\n",
      "Epoch   1 Batch    8/22   train_loss = 5.532\n",
      "Epoch   1 Batch   18/22   train_loss = 5.141\n",
      "Epoch   2 Batch    6/22   train_loss = 4.759\n",
      "Epoch   2 Batch   16/22   train_loss = 4.503\n",
      "Epoch   3 Batch    4/22   train_loss = 4.259\n",
      "Epoch   3 Batch   14/22   train_loss = 4.102\n",
      "Epoch   4 Batch    2/22   train_loss = 3.667\n",
      "Epoch   4 Batch   12/22   train_loss = 3.599\n",
      "Epoch   5 Batch    0/22   train_loss = 3.215\n",
      "Epoch   5 Batch   10/22   train_loss = 3.259\n",
      "Epoch   5 Batch   20/22   train_loss = 3.142\n",
      "Epoch   6 Batch    8/22   train_loss = 3.005\n",
      "Epoch   6 Batch   18/22   train_loss = 3.139\n",
      "Epoch   7 Batch    6/22   train_loss = 2.786\n",
      "Epoch   7 Batch   16/22   train_loss = 2.820\n",
      "Epoch   8 Batch    4/22   train_loss = 2.556\n",
      "Epoch   8 Batch   14/22   train_loss = 2.633\n",
      "Epoch   9 Batch    2/22   train_loss = 2.465\n",
      "Epoch   9 Batch   12/22   train_loss = 2.333\n",
      "Epoch  10 Batch    0/22   train_loss = 2.130\n",
      "Epoch  10 Batch   10/22   train_loss = 1.875\n",
      "Epoch  10 Batch   20/22   train_loss = 1.929\n",
      "Epoch  11 Batch    8/22   train_loss = 1.689\n",
      "Epoch  11 Batch   18/22   train_loss = 1.523\n",
      "Epoch  12 Batch    6/22   train_loss = 1.383\n",
      "Epoch  12 Batch   16/22   train_loss = 1.230\n",
      "Epoch  13 Batch    4/22   train_loss = 1.119\n",
      "Epoch  13 Batch   14/22   train_loss = 0.993\n",
      "Epoch  14 Batch    2/22   train_loss = 0.937\n",
      "Epoch  14 Batch   12/22   train_loss = 0.800\n",
      "Epoch  15 Batch    0/22   train_loss = 0.792\n",
      "Epoch  15 Batch   10/22   train_loss = 0.693\n",
      "Epoch  15 Batch   20/22   train_loss = 0.633\n",
      "Epoch  16 Batch    8/22   train_loss = 0.600\n",
      "Epoch  16 Batch   18/22   train_loss = 0.558\n",
      "Epoch  17 Batch    6/22   train_loss = 0.496\n",
      "Epoch  17 Batch   16/22   train_loss = 0.430\n",
      "Epoch  18 Batch    4/22   train_loss = 0.379\n",
      "Epoch  18 Batch   14/22   train_loss = 0.329\n",
      "Epoch  19 Batch    2/22   train_loss = 0.334\n",
      "Epoch  19 Batch   12/22   train_loss = 0.279\n",
      "Epoch  20 Batch    0/22   train_loss = 0.262\n",
      "Epoch  20 Batch   10/22   train_loss = 0.231\n",
      "Epoch  20 Batch   20/22   train_loss = 0.224\n",
      "Epoch  21 Batch    8/22   train_loss = 0.229\n",
      "Epoch  21 Batch   18/22   train_loss = 0.213\n",
      "Epoch  22 Batch    6/22   train_loss = 0.205\n",
      "Epoch  22 Batch   16/22   train_loss = 0.195\n",
      "Epoch  23 Batch    4/22   train_loss = 0.166\n",
      "Epoch  23 Batch   14/22   train_loss = 0.179\n",
      "Epoch  24 Batch    2/22   train_loss = 0.172\n",
      "Epoch  24 Batch   12/22   train_loss = 0.158\n",
      "Epoch  25 Batch    0/22   train_loss = 0.160\n",
      "Epoch  25 Batch   10/22   train_loss = 0.143\n",
      "Epoch  25 Batch   20/22   train_loss = 0.160\n",
      "Epoch  26 Batch    8/22   train_loss = 0.167\n",
      "Epoch  26 Batch   18/22   train_loss = 0.151\n",
      "Epoch  27 Batch    6/22   train_loss = 0.159\n",
      "Epoch  27 Batch   16/22   train_loss = 0.159\n",
      "Epoch  28 Batch    4/22   train_loss = 0.131\n",
      "Epoch  28 Batch   14/22   train_loss = 0.147\n",
      "Epoch  29 Batch    2/22   train_loss = 0.148\n",
      "Epoch  29 Batch   12/22   train_loss = 0.138\n",
      "Epoch  30 Batch    0/22   train_loss = 0.140\n",
      "Epoch  30 Batch   10/22   train_loss = 0.128\n",
      "Epoch  30 Batch   20/22   train_loss = 0.135\n",
      "Epoch  31 Batch    8/22   train_loss = 0.153\n",
      "Epoch  31 Batch   18/22   train_loss = 0.143\n",
      "Epoch  32 Batch    6/22   train_loss = 0.149\n",
      "Epoch  32 Batch   16/22   train_loss = 0.149\n",
      "Epoch  33 Batch    4/22   train_loss = 0.123\n",
      "Epoch  33 Batch   14/22   train_loss = 0.144\n",
      "Epoch  34 Batch    2/22   train_loss = 0.141\n",
      "Epoch  34 Batch   12/22   train_loss = 0.131\n",
      "Epoch  35 Batch    0/22   train_loss = 0.134\n",
      "Epoch  35 Batch   10/22   train_loss = 0.125\n",
      "Epoch  35 Batch   20/22   train_loss = 0.129\n",
      "Epoch  36 Batch    8/22   train_loss = 0.150\n",
      "Epoch  36 Batch   18/22   train_loss = 0.138\n",
      "Epoch  37 Batch    6/22   train_loss = 0.145\n",
      "Epoch  37 Batch   16/22   train_loss = 0.149\n",
      "Epoch  38 Batch    4/22   train_loss = 0.121\n",
      "Epoch  38 Batch   14/22   train_loss = 0.140\n",
      "Epoch  39 Batch    2/22   train_loss = 0.137\n",
      "Epoch  39 Batch   12/22   train_loss = 0.132\n",
      "Epoch  40 Batch    0/22   train_loss = 0.129\n",
      "Epoch  40 Batch   10/22   train_loss = 0.122\n",
      "Epoch  40 Batch   20/22   train_loss = 0.128\n",
      "Epoch  41 Batch    8/22   train_loss = 0.147\n",
      "Epoch  41 Batch   18/22   train_loss = 0.136\n",
      "Epoch  42 Batch    6/22   train_loss = 0.144\n",
      "Epoch  42 Batch   16/22   train_loss = 0.144\n",
      "Epoch  43 Batch    4/22   train_loss = 0.118\n",
      "Epoch  43 Batch   14/22   train_loss = 0.140\n",
      "Epoch  44 Batch    2/22   train_loss = 0.135\n",
      "Epoch  44 Batch   12/22   train_loss = 0.127\n",
      "Epoch  45 Batch    0/22   train_loss = 0.131\n",
      "Epoch  45 Batch   10/22   train_loss = 0.120\n",
      "Epoch  45 Batch   20/22   train_loss = 0.125\n",
      "Epoch  46 Batch    8/22   train_loss = 0.146\n",
      "Epoch  46 Batch   18/22   train_loss = 0.135\n",
      "Epoch  47 Batch    6/22   train_loss = 0.142\n",
      "Epoch  47 Batch   16/22   train_loss = 0.145\n",
      "Epoch  48 Batch    4/22   train_loss = 0.118\n",
      "Epoch  48 Batch   14/22   train_loss = 0.137\n",
      "Epoch  49 Batch    2/22   train_loss = 0.136\n",
      "Epoch  49 Batch   12/22   train_loss = 0.130\n",
      "Epoch  50 Batch    0/22   train_loss = 0.127\n",
      "Epoch  50 Batch   10/22   train_loss = 0.120\n",
      "Epoch  50 Batch   20/22   train_loss = 0.125\n",
      "Epoch  51 Batch    8/22   train_loss = 0.144\n",
      "Epoch  51 Batch   18/22   train_loss = 0.134\n",
      "Epoch  52 Batch    6/22   train_loss = 0.142\n",
      "Epoch  52 Batch   16/22   train_loss = 0.143\n",
      "Epoch  53 Batch    4/22   train_loss = 0.116\n",
      "Epoch  53 Batch   14/22   train_loss = 0.138\n",
      "Epoch  54 Batch    2/22   train_loss = 0.134\n",
      "Epoch  54 Batch   12/22   train_loss = 0.126\n",
      "Epoch  55 Batch    0/22   train_loss = 0.130\n",
      "Epoch  55 Batch   10/22   train_loss = 0.119\n",
      "Epoch  55 Batch   20/22   train_loss = 0.124\n",
      "Epoch  56 Batch    8/22   train_loss = 0.145\n",
      "Epoch  56 Batch   18/22   train_loss = 0.134\n",
      "Epoch  57 Batch    6/22   train_loss = 0.141\n",
      "Epoch  57 Batch   16/22   train_loss = 0.144\n",
      "Epoch  58 Batch    4/22   train_loss = 0.117\n",
      "Epoch  58 Batch   14/22   train_loss = 0.136\n",
      "Epoch  59 Batch    2/22   train_loss = 0.133\n",
      "Epoch  59 Batch   12/22   train_loss = 0.129\n",
      "Epoch  60 Batch    0/22   train_loss = 0.126\n",
      "Epoch  60 Batch   10/22   train_loss = 0.119\n",
      "Epoch  60 Batch   20/22   train_loss = 0.124\n",
      "Epoch  61 Batch    8/22   train_loss = 0.143\n",
      "Epoch  61 Batch   18/22   train_loss = 0.133\n",
      "Epoch  62 Batch    6/22   train_loss = 0.141\n",
      "Epoch  62 Batch   16/22   train_loss = 0.142\n",
      "Epoch  63 Batch    4/22   train_loss = 0.115\n",
      "Epoch  63 Batch   14/22   train_loss = 0.137\n",
      "Epoch  64 Batch    2/22   train_loss = 0.133\n",
      "Epoch  64 Batch   12/22   train_loss = 0.126\n",
      "Epoch  65 Batch    0/22   train_loss = 0.128\n",
      "Epoch  65 Batch   10/22   train_loss = 0.118\n",
      "Epoch  65 Batch   20/22   train_loss = 0.123\n",
      "Epoch  66 Batch    8/22   train_loss = 0.144\n",
      "Epoch  66 Batch   18/22   train_loss = 0.134\n",
      "Epoch  67 Batch    6/22   train_loss = 0.141\n",
      "Epoch  67 Batch   16/22   train_loss = 0.143\n",
      "Epoch  68 Batch    4/22   train_loss = 0.117\n",
      "Epoch  68 Batch   14/22   train_loss = 0.135\n",
      "Epoch  69 Batch    2/22   train_loss = 0.133\n",
      "Epoch  69 Batch   12/22   train_loss = 0.128\n",
      "Epoch  70 Batch    0/22   train_loss = 0.126\n",
      "Epoch  70 Batch   10/22   train_loss = 0.119\n",
      "Epoch  70 Batch   20/22   train_loss = 0.124\n",
      "Epoch  71 Batch    8/22   train_loss = 0.143\n",
      "Epoch  71 Batch   18/22   train_loss = 0.132\n",
      "Epoch  72 Batch    6/22   train_loss = 0.140\n",
      "Epoch  72 Batch   16/22   train_loss = 0.141\n",
      "Epoch  73 Batch    4/22   train_loss = 0.115\n",
      "Epoch  73 Batch   14/22   train_loss = 0.137\n",
      "Epoch  74 Batch    2/22   train_loss = 0.133\n",
      "Epoch  74 Batch   12/22   train_loss = 0.126\n",
      "Epoch  75 Batch    0/22   train_loss = 0.128\n",
      "Epoch  75 Batch   10/22   train_loss = 0.117\n",
      "Epoch  75 Batch   20/22   train_loss = 0.123\n",
      "Epoch  76 Batch    8/22   train_loss = 0.144\n",
      "Epoch  76 Batch   18/22   train_loss = 0.134\n",
      "Epoch  77 Batch    6/22   train_loss = 0.141\n",
      "Epoch  77 Batch   16/22   train_loss = 0.143\n",
      "Epoch  78 Batch    4/22   train_loss = 0.116\n",
      "Epoch  78 Batch   14/22   train_loss = 0.135\n",
      "Epoch  79 Batch    2/22   train_loss = 0.133\n",
      "Epoch  79 Batch   12/22   train_loss = 0.127\n",
      "Epoch  80 Batch    0/22   train_loss = 0.126\n",
      "Epoch  80 Batch   10/22   train_loss = 0.119\n",
      "Epoch  80 Batch   20/22   train_loss = 0.124\n",
      "Epoch  81 Batch    8/22   train_loss = 0.143\n",
      "Epoch  81 Batch   18/22   train_loss = 0.132\n",
      "Epoch  82 Batch    6/22   train_loss = 0.140\n",
      "Epoch  82 Batch   16/22   train_loss = 0.141\n"
     ]
    },
    {
     "name": "stdout",
     "output_type": "stream",
     "text": [
      "Epoch  83 Batch    4/22   train_loss = 0.115\n",
      "Epoch  83 Batch   14/22   train_loss = 0.137\n",
      "Epoch  84 Batch    2/22   train_loss = 0.132\n",
      "Epoch  84 Batch   12/22   train_loss = 0.125\n",
      "Epoch  85 Batch    0/22   train_loss = 0.129\n",
      "Epoch  85 Batch   10/22   train_loss = 0.117\n",
      "Epoch  85 Batch   20/22   train_loss = 0.123\n",
      "Epoch  86 Batch    8/22   train_loss = 0.143\n",
      "Epoch  86 Batch   18/22   train_loss = 0.134\n",
      "Epoch  87 Batch    6/22   train_loss = 0.141\n",
      "Epoch  87 Batch   16/22   train_loss = 0.143\n",
      "Epoch  88 Batch    4/22   train_loss = 0.116\n",
      "Epoch  88 Batch   14/22   train_loss = 0.135\n",
      "Epoch  89 Batch    2/22   train_loss = 0.132\n",
      "Epoch  89 Batch   12/22   train_loss = 0.127\n",
      "Epoch  90 Batch    0/22   train_loss = 0.126\n",
      "Epoch  90 Batch   10/22   train_loss = 0.118\n",
      "Epoch  90 Batch   20/22   train_loss = 0.123\n",
      "Epoch  91 Batch    8/22   train_loss = 0.143\n",
      "Epoch  91 Batch   18/22   train_loss = 0.132\n",
      "Epoch  92 Batch    6/22   train_loss = 0.140\n",
      "Epoch  92 Batch   16/22   train_loss = 0.141\n",
      "Epoch  93 Batch    4/22   train_loss = 0.115\n",
      "Epoch  93 Batch   14/22   train_loss = 0.137\n",
      "Epoch  94 Batch    2/22   train_loss = 0.132\n",
      "Epoch  94 Batch   12/22   train_loss = 0.125\n",
      "Epoch  95 Batch    0/22   train_loss = 0.128\n",
      "Epoch  95 Batch   10/22   train_loss = 0.117\n",
      "Epoch  95 Batch   20/22   train_loss = 0.123\n",
      "Epoch  96 Batch    8/22   train_loss = 0.143\n",
      "Epoch  96 Batch   18/22   train_loss = 0.134\n",
      "Epoch  97 Batch    6/22   train_loss = 0.140\n",
      "Epoch  97 Batch   16/22   train_loss = 0.142\n",
      "Epoch  98 Batch    4/22   train_loss = 0.116\n",
      "Epoch  98 Batch   14/22   train_loss = 0.135\n",
      "Epoch  99 Batch    2/22   train_loss = 0.132\n",
      "Epoch  99 Batch   12/22   train_loss = 0.127\n",
      "Model Trained and Saved\n"
     ]
    }
   ],
   "source": [
    "\"\"\"\n",
    "DON'T MODIFY ANYTHING IN THIS CELL\n",
    "\"\"\"\n",
    "batches = get_batches(int_text, batch_size, seq_length)\n",
    "\n",
    "with tf.Session(graph=train_graph) as sess:\n",
    "    sess.run(tf.global_variables_initializer())\n",
    "\n",
    "    for epoch_i in range(num_epochs):\n",
    "        state = sess.run(initial_state, {input_text: batches[0][0]})\n",
    "\n",
    "        for batch_i, (x, y) in enumerate(batches):\n",
    "            feed = {\n",
    "                input_text: x,\n",
    "                targets: y,\n",
    "                initial_state: state,\n",
    "                lr: learning_rate}\n",
    "            train_loss, state, _ = sess.run([cost, final_state, train_op], feed)\n",
    "\n",
    "            # Show every <show_every_n_batches> batches\n",
    "            if (epoch_i * len(batches) + batch_i) % show_every_n_batches == 0:\n",
    "                print('Epoch {:>3} Batch {:>4}/{}   train_loss = {:.3f}'.format(\n",
    "                    epoch_i,\n",
    "                    batch_i,\n",
    "                    len(batches),\n",
    "                    train_loss))\n",
    "\n",
    "    # Save Model\n",
    "    saver = tf.train.Saver()\n",
    "    saver.save(sess, save_dir)\n",
    "    print('Model Trained and Saved')"
   ]
  },
  {
   "cell_type": "markdown",
   "metadata": {},
   "source": [
    "## 储存参数\n",
    "储存 `seq_length` 和 `save_dir` 来生成新的电视剧剧本。"
   ]
  },
  {
   "cell_type": "code",
   "execution_count": 17,
   "metadata": {},
   "outputs": [],
   "source": [
    "\"\"\"\n",
    "DON'T MODIFY ANYTHING IN THIS CELL\n",
    "\"\"\"\n",
    "# Save parameters for checkpoint\n",
    "helper.save_params((seq_length, save_dir))"
   ]
  },
  {
   "cell_type": "markdown",
   "metadata": {},
   "source": [
    "# 检查点"
   ]
  },
  {
   "cell_type": "code",
   "execution_count": 18,
   "metadata": {},
   "outputs": [],
   "source": [
    "\"\"\"\n",
    "DON'T MODIFY ANYTHING IN THIS CELL\n",
    "\"\"\"\n",
    "import tensorflow as tf\n",
    "import numpy as np\n",
    "import helper\n",
    "import problem_unittests as tests\n",
    "\n",
    "_, vocab_to_int, int_to_vocab, token_dict = helper.load_preprocess()\n",
    "seq_length, load_dir = helper.load_params()"
   ]
  },
  {
   "cell_type": "markdown",
   "metadata": {},
   "source": [
    "## 实现生成函数\n",
    "### 获取 Tensors\n",
    "使用 [`get_tensor_by_name()`](https://www.tensorflow.org/api_docs/python/tf/Graph#get_tensor_by_name)函数从 `loaded_graph` 中获取 tensor。  使用下面的名称获取 tensor：\n",
    "\n",
    "- \"input:0\"\n",
    "- \"initial_state:0\"\n",
    "- \"final_state:0\"\n",
    "- \"probs:0\"\n",
    "\n",
    "返回下列元组中的 tensor `(InputTensor, InitialStateTensor, FinalStateTensor, ProbsTensor)`"
   ]
  },
  {
   "cell_type": "code",
   "execution_count": 19,
   "metadata": {},
   "outputs": [
    {
     "name": "stdout",
     "output_type": "stream",
     "text": [
      "Tests Passed\n"
     ]
    }
   ],
   "source": [
    "def get_tensors(loaded_graph):\n",
    "    \"\"\"\n",
    "    Get input, initial state, final state, and probabilities tensor from <loaded_graph>\n",
    "    :param loaded_graph: TensorFlow graph loaded from file\n",
    "    :return: Tuple (InputTensor, InitialStateTensor, FinalStateTensor, ProbsTensor)\n",
    "    \"\"\"\n",
    "    # TODO: Implement Function\n",
    "    tensor_input = loaded_graph.get_tensor_by_name('input:0')\n",
    "    tensor_init = loaded_graph.get_tensor_by_name('initial_state:0')\n",
    "    tensor_final = loaded_graph.get_tensor_by_name('final_state:0')\n",
    "    tensor_probs = loaded_graph.get_tensor_by_name('probs:0')\n",
    "    \n",
    "    return(tensor_input, tensor_init, tensor_final, tensor_probs)\n",
    "\n",
    "\n",
    "\"\"\"\n",
    "DON'T MODIFY ANYTHING IN THIS CELL THAT IS BELOW THIS LINE\n",
    "\"\"\"\n",
    "tests.test_get_tensors(get_tensors)"
   ]
  },
  {
   "cell_type": "markdown",
   "metadata": {},
   "source": [
    "### 选择词汇\n",
    "实现 `pick_word()` 函数来使用 `probabilities` 选择下一个词汇。"
   ]
  },
  {
   "cell_type": "code",
   "execution_count": 20,
   "metadata": {},
   "outputs": [
    {
     "name": "stdout",
     "output_type": "stream",
     "text": [
      "Tests Passed\n"
     ]
    }
   ],
   "source": [
    "def pick_word(probabilities, int_to_vocab):\n",
    "    \"\"\"\n",
    "    Pick the next word in the generated text\n",
    "    :param probabilities: Probabilites of the next word\n",
    "    :param int_to_vocab: Dictionary of word ids as the keys and words as the values\n",
    "    :return: String of the predicted word\n",
    "    \"\"\"\n",
    "    # TODO: Implement Function\n",
    "    argmax_pr = np.argmax(probabilities)\n",
    "    next_word = int_to_vocab[argmax_pr]\n",
    "    \n",
    "    return(next_word)\n",
    "\n",
    "\n",
    "\"\"\"\n",
    "DON'T MODIFY ANYTHING IN THIS CELL THAT IS BELOW THIS LINE\n",
    "\"\"\"\n",
    "tests.test_pick_word(pick_word)"
   ]
  },
  {
   "cell_type": "markdown",
   "metadata": {},
   "source": [
    "## 生成电视剧剧本\n",
    "这将为你生成一个电视剧剧本。通过设置 `gen_length` 来调整你想生成的剧本长度。"
   ]
  },
  {
   "cell_type": "code",
   "execution_count": 21,
   "metadata": {},
   "outputs": [
    {
     "name": "stdout",
     "output_type": "stream",
     "text": [
      "INFO:tensorflow:Restoring parameters from ./save\n",
      "homer_simpson:(upset) no man should outlive his fictional wizard! no man!(sobs)\n",
      "\n",
      "\n",
      "moe_szyslak: what'sa matter, homer and what the hell am i talkin' to?\n",
      "marge_simpson: uh, i... uh...\n",
      "jacques: i don't got the money to buy you your necklace.\n",
      "marge_simpson: awww...(then) eww, i'd just have to go to hell.\n",
      "moe_szyslak:(muffled) i'm behind three inches of bullet-proof glass. do your worst.\n",
      "snake_jailbird:(reasonable) all right, i admit it. i did something really terrible to someone i love.\n",
      "barney_gumble:(shaking his head) what kind of fragile...\n",
      "moe_szyslak: hey, homer... what if you got back one of those samples you sold years ago at the bright side, moe.\n",
      "moe_szyslak:(serious) oh, boy...\n",
      "moe_szyslak:(sings) good king wenceslas looked out on a beer?\n",
      "\n",
      "\n",
      "homer_simpson:(tipsy) aw, hell. well, okay.\n",
      "\n"
     ]
    }
   ],
   "source": [
    "gen_length = 200\n",
    "# homer_simpson, moe_szyslak, or Barney_Gumble\n",
    "prime_word = 'homer_simpson'\n",
    "\n",
    "\"\"\"\n",
    "DON'T MODIFY ANYTHING IN THIS CELL THAT IS BELOW THIS LINE\n",
    "\"\"\"\n",
    "loaded_graph = tf.Graph()\n",
    "with tf.Session(graph=loaded_graph) as sess:\n",
    "    # Load saved model\n",
    "    loader = tf.train.import_meta_graph(load_dir + '.meta')\n",
    "    loader.restore(sess, load_dir)\n",
    "\n",
    "    # Get Tensors from loaded model\n",
    "    input_text, initial_state, final_state, probs = get_tensors(loaded_graph)\n",
    "\n",
    "    # Sentences generation setup\n",
    "    gen_sentences = [prime_word + ':']\n",
    "    prev_state = sess.run(initial_state, {input_text: np.array([[1]])})\n",
    "\n",
    "    # Generate sentences\n",
    "    for n in range(gen_length):\n",
    "        # Dynamic Input\n",
    "        dyn_input = [[vocab_to_int[word] for word in gen_sentences[-seq_length:]]]\n",
    "        dyn_seq_length = len(dyn_input[0])\n",
    "\n",
    "        # Get Prediction\n",
    "        probabilities, prev_state = sess.run(\n",
    "            [probs, final_state],\n",
    "            {input_text: dyn_input, initial_state: prev_state})\n",
    "        \n",
    "        pred_word = pick_word(probabilities[0][dyn_seq_length-1], int_to_vocab)\n",
    "\n",
    "        gen_sentences.append(pred_word)\n",
    "    \n",
    "    # Remove tokens\n",
    "    tv_script = ' '.join(gen_sentences)\n",
    "    for key, token in token_dict.items():\n",
    "        ending = ' ' if key in ['\\n', '(', '\"'] else ''\n",
    "        tv_script = tv_script.replace(' ' + token.lower(), key)\n",
    "    tv_script = tv_script.replace('\\n ', '\\n')\n",
    "    tv_script = tv_script.replace('( ', '(')\n",
    "        \n",
    "    print(tv_script)"
   ]
  },
  {
   "cell_type": "markdown",
   "metadata": {},
   "source": [
    "# 这个电视剧剧本是无意义的\n",
    "如果这个电视剧剧本毫无意义，那也没有关系。我们的训练文本不到一兆字节。为了获得更好的结果，你需要使用更小的词汇范围或是更多数据。幸运的是，我们的确拥有更多数据！在本项目开始之初我们也曾提过，这是[另一个数据集](https://www.kaggle.com/wcukierski/the-simpsons-by-the-data)的子集。我们并没有让你基于所有数据进行训练，因为这将耗费大量时间。然而，你可以随意使用这些数据训练你的神经网络。当然，是在完成本项目之后。\n",
    "# 提交项目\n",
    "在提交项目时，请确保你在保存 notebook 前运行了所有的单元格代码。请将 notebook 文件保存为 \"dlnd_tv_script_generation.ipynb\"，并将它作为 HTML 文件保存在 \"File\" -> \"Download as\" 中。请将 \"helper.py\" 和 \"problem_unittests.py\" 文件一并提交。"
   ]
  }
 ],
 "metadata": {
  "kernelspec": {
   "display_name": "Python 3",
   "language": "python",
   "name": "python3"
  },
  "language_info": {
   "codemirror_mode": {
    "name": "ipython",
    "version": 3
   },
   "file_extension": ".py",
   "mimetype": "text/x-python",
   "name": "python",
   "nbconvert_exporter": "python",
   "pygments_lexer": "ipython3",
   "version": "3.5.2"
  }
 },
 "nbformat": 4,
 "nbformat_minor": 2
}
